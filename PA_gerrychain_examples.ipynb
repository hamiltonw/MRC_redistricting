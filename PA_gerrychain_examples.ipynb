{
 "cells": [
  {
   "cell_type": "markdown",
   "metadata": {},
   "source": [
    "# Set up the environment\n",
    "\n",
    "Start by importing packages."
   ]
  },
  {
   "cell_type": "code",
   "execution_count": null,
   "metadata": {},
   "outputs": [],
   "source": [
    "# for gerrychain\n",
    "import random\n",
    "import math\n",
    "import matplotlib.pyplot as plt\n",
    "from gerrychain import (GeographicPartition, Partition, Graph, MarkovChain,\n",
    "                        proposals, updaters, constraints, accept, Election)\n",
    "from gerrychain.proposals import recom\n",
    "from functools import partial\n",
    "import pandas as pd\n",
    "import geopandas as gpd\n",
    "import pickle\n",
    "\n",
    "from tqdm import tqdm\n",
    "\n",
    "# for fancy map plotting\n",
    "# import folium\n",
    "# import mapclassify"
   ]
  },
  {
   "cell_type": "markdown",
   "metadata": {},
   "source": [
    "Read in the PA VTDs and other info."
   ]
  },
  {
   "cell_type": "code",
   "execution_count": null,
   "metadata": {},
   "outputs": [],
   "source": [
    "# read in the shapefile as a dataframe\n",
    "pa_vtds = gpd.read_file(\"./data/PA/PA.shp\")\n",
    "\n",
    "# see what's in the shapefile \n",
    "pa_vtds.head()"
   ]
  },
  {
   "cell_type": "code",
   "execution_count": null,
   "metadata": {},
   "outputs": [],
   "source": [
    "# see the column names\n",
    "pa_vtds[\"T16PRESR\"]"
   ]
  },
  {
   "cell_type": "code",
   "execution_count": null,
   "metadata": {},
   "outputs": [],
   "source": [
    "# convert the dataframe to a gerrychain-viable object\n",
    "graph = Graph.from_geodataframe(pa_vtds)"
   ]
  },
  {
   "cell_type": "code",
   "execution_count": null,
   "metadata": {},
   "outputs": [],
   "source": [
    "# fix the issues in the PA shapefile w.r.t. CD_2011 (see: https://github.com/mggg-states/PA-shapefiles )\n",
    "graph.add_edge(7648,7635)\n",
    "graph.add_edge(1247,1160)"
   ]
  },
  {
   "cell_type": "markdown",
   "metadata": {},
   "source": [
    "# Set up the chain\n",
    "\n",
    "Start by specifying election info (columns), population info, and the initial partition."
   ]
  },
  {
   "cell_type": "code",
   "execution_count": null,
   "metadata": {},
   "outputs": [],
   "source": [
    "# this is more-or-less following the tutorial here: https://gerrychain.readthedocs.io/en/latest/user/recom.html\n",
    "elections = [\n",
    "    Election(\"SEN10\", {\"Democratic\": \"SEN10D\", \"Republican\": \"SEN10R\"}),\n",
    "    Election(\"SEN12\", {\"Democratic\": \"USS12D\", \"Republican\": \"USS12R\"}),\n",
    "    Election(\"SEN16\", {\"Democratic\": \"T16SEND\", \"Republican\": \"T16SENR\"}),\n",
    "    Election(\"PRES12\", {\"Democratic\": \"PRES12D\", \"Republican\": \"PRES12R\"}),\n",
    "    Election(\"PRES16\", {\"Democratic\": \"T16PRESD\", \"Republican\": \"T16PRESR\"})\n",
    "]\n",
    "\n",
    "# Population updater, for computing how close to equality the district\n",
    "# populations are. \"TOTPOP\" is the population column from our shapefile.\n",
    "my_updaters = {\"population\": updaters.Tally(\"TOTPOP\", alias=\"population\")}\n",
    "# main difference here, name for the population column is different\n",
    "\n",
    "# Election updaters, for computing election results using the vote totals\n",
    "# from our shapefile.\n",
    "election_updaters = {election.name: election for election in elections}\n",
    "my_updaters.update(election_updaters)\n",
    "\n",
    "initial_partition = GeographicPartition(graph, assignment=\"CD_2011\", updaters=my_updaters)"
   ]
  },
  {
   "cell_type": "markdown",
   "metadata": {},
   "source": [
    "Specify the ideal population, and set up the proposal step."
   ]
  },
  {
   "cell_type": "code",
   "execution_count": null,
   "metadata": {},
   "outputs": [],
   "source": [
    "# The ReCom proposal needs to know the ideal population for the districts so that\n",
    "# we can improve speed by bailing early on unbalanced partitions.\n",
    "\n",
    "ideal_population = sum(initial_partition[\"population\"].values()) / len(initial_partition)\n",
    "\n",
    "# We use functools.partial to bind the extra parameters (pop_col, pop_target, epsilon, node_repeats)\n",
    "# of the recom proposal.\n",
    "proposal = partial(recom,\n",
    "                   pop_col=\"TOTPOP\",\n",
    "                   pop_target=ideal_population,\n",
    "                   epsilon=0.02,\n",
    "                   node_repeats=2\n",
    "                  )"
   ]
  },
  {
   "cell_type": "markdown",
   "metadata": {},
   "source": [
    "Define the compactness constraint/bound, as well as the population constraint."
   ]
  },
  {
   "cell_type": "code",
   "execution_count": null,
   "metadata": {},
   "outputs": [],
   "source": [
    "compactness_bound = constraints.UpperBound(\n",
    "    lambda p: len(p[\"cut_edges\"]),\n",
    "    2*len(initial_partition[\"cut_edges\"])\n",
    ")\n",
    "\n",
    "pop_constraint = constraints.within_percent_of_ideal_population(initial_partition, 0.02)\n",
    "\n",
    "# to add a constraint that would bias a plan, probably add it here\n",
    "# see also https://gerrychain.readthedocs.io/en/latest/api.html#module-gerrychain.constraints\n"
   ]
  },
  {
   "cell_type": "code",
   "execution_count": null,
   "metadata": {},
   "outputs": [],
   "source": [
    "election_name = 'PRES16' \n",
    "bias_for_second_party = False\n",
    "\n",
    "def increase_bias(partition):\n",
    "    # accept anything if this is the first map\n",
    "    if partition.parent is None:\n",
    "        return True\n",
    "    \n",
    "    # get ElectionResults for current and previous map\n",
    "    prev_partition = partition.parent\n",
    "\n",
    "    current_elec_result = partition.updaters[election_name](partition)\n",
    "    previous_elec_result = prev_partition.updaters[election_name](prev_partition)\n",
    "    \n",
    "    ## change here if we are interested in different \"bias\" metric\n",
    "    delta = current_elec_result.efficiency_gap() - previous_elec_result.efficiency_gap()\n",
    "    \n",
    "    if bias_for_second_party:\n",
    "        delta = -delta\n",
    "        \n",
    "    # accept immediately if \"bias\" is not decreasing\n",
    "    if delta >= 0:\n",
    "        return True\n",
    "    \n",
    "    # only get to this part of the code if delta < 0\n",
    "    # in this case, still accept with some probability\n",
    "    return random.random() <= math.exp(delta)\n"
   ]
  },
  {
   "cell_type": "markdown",
   "metadata": {},
   "source": [
    "Piece everything together into a chain (which then gets run, eventually)."
   ]
  },
  {
   "cell_type": "code",
   "execution_count": null,
   "metadata": {},
   "outputs": [],
   "source": [
    "num_steps = 300 # a shorter chain\n",
    "\n",
    "chain = MarkovChain(\n",
    "    proposal=proposal,\n",
    "    constraints=[\n",
    "        pop_constraint,\n",
    "        compactness_bound #,bias_constraint\n",
    "    ],\n",
    "    #accept=accept.always_accept,\n",
    "    accept = increase_bias,\n",
    "    initial_state=initial_partition,\n",
    "    total_steps=num_steps\n",
    ")"
   ]
  },
  {
   "cell_type": "markdown",
   "metadata": {},
   "source": [
    "# Run the chain\n",
    "\n",
    "With everything set up, now run the chain."
   ]
  },
  {
   "cell_type": "code",
   "execution_count": null,
   "metadata": {
    "scrolled": true
   },
   "outputs": [],
   "source": [
    "all_partitions = [] # keep track of the actual partitions\n",
    "all_percents = [] # keep track of the democratic percentages\n",
    "partisan_metric_values = [] # keep track of the partisan metrics\n",
    "all_assignments = [] # something pickle-able\n",
    "\n",
    "for partition in chain.with_progress_bar():\n",
    "    all_partitions.append(partition)\n",
    "    all_assignments.append(partition.assignment)\n",
    "    partisan_metric_values.append(partition.updaters[election_name](partition).efficiency_gap())\n",
    "    all_percents.append(sorted(partition[\"SEN12\"].percents(\"Democratic\")))\n",
    "\n",
    "\n",
    "with open('chains/biased-for-first-party.pkl', 'wb') as f:\n",
    "    pickle.dump(all_assignments, f)\n"
   ]
  },
  {
   "cell_type": "code",
   "execution_count": null,
   "metadata": {},
   "outputs": [],
   "source": [
    "# with open('chains/biased-for-first-party.pkl', 'rb') as f:\n",
    "#     test = pickle.load(f)"
   ]
  },
  {
   "cell_type": "code",
   "execution_count": null,
   "metadata": {},
   "outputs": [],
   "source": [
    "plt.plot(partisan_metric_values)"
   ]
  },
  {
   "cell_type": "markdown",
   "metadata": {},
   "source": [
    "Now produce some initial visualizations summarizing what's in the chain."
   ]
  },
  {
   "cell_type": "code",
   "execution_count": null,
   "metadata": {},
   "outputs": [],
   "source": [
    "data = pd.DataFrame(all_percents) #convert to a pd dataframe\n",
    "\n",
    "# add the partitions to the dataframe as columns\n",
    "for idx,p in enumerate(all_partitions):\n",
    "    # read out the dictionary values of the partition\n",
    "    pa_vtds[f\"plan_{idx}\"] = [p.assignment[ii] for ii in range(len(graph))]\n",
    "\n",
    "fig, ax = plt.subplots(figsize=(8, 6))\n",
    "\n",
    "# Draw 50% line\n",
    "ax.axhline(0.5, color=\"#cccccc\")\n",
    "\n",
    "# Draw boxplot\n",
    "data.boxplot(ax=ax, positions=range(len(data.columns)))\n",
    "\n",
    "# Draw initial plan's Democratic vote %s (.iloc[0] gives the first row)\n",
    "plt.plot(data.iloc[0], \"ro\")\n",
    "\n",
    "# Annotate\n",
    "ax.set_title(\"Comparing the 2011 plan to an ensemble\")\n",
    "ax.set_ylabel(\"Democratic vote % (Senate 2012)\")\n",
    "ax.set_xlabel(\"Sorted districts\")\n",
    "ax.set_ylim(0, 1)\n",
    "ax.set_yticks([0, 0.25, 0.5, 0.75, 1])\n",
    "\n",
    "plt.show()"
   ]
  },
  {
   "cell_type": "markdown",
   "metadata": {},
   "source": [
    "# Visualize results\n",
    "\n",
    "Folio can be tough to start with, but produces nice visuals with explorability. This portion is adapted from the tutoral here: https://kodu.ut.ee/~kmoch/geopython2019/L6/interactive-map-folium.html\n",
    "\n",
    "See also examples and other ideas here: https://python-visualization.github.io/folium/quickstart.html"
   ]
  },
  {
   "cell_type": "code",
   "execution_count": null,
   "metadata": {
    "scrolled": false
   },
   "outputs": [],
   "source": [
    "# #this sets up a new map with prescribed view location and zoom, etc.\n",
    "# m = folium.Map(location=[40, -77], zoom_start=6.4, control_scale=True, prefer_canvas=True, width=600, height=450)\n",
    "\n",
    "# #this forces the map to be displayed\n",
    "# m"
   ]
  },
  {
   "cell_type": "code",
   "execution_count": null,
   "metadata": {
    "scrolled": false
   },
   "outputs": [],
   "source": [
    "# # generate a new map and then draw the shapefiles\n",
    "# m = folium.Map(location=[40, -77], zoom_start=6.4, control_scale=True, prefer_canvas=True, width=600, height=450)\n",
    "\n",
    "# # Folium wants data as JSON objects\n",
    "# # here, specify the columns to use in isolating the data\n",
    "# pa_vtds[\"geoid\"] = pa_vtds.index.astype(str)\n",
    "# pa_plot_data = pa_vtds[[\"geoid\",\"CD_2011\",\"T16PRESD\",\"T16PRESR\",\"geometry\"]]\n",
    "\n",
    "# pa_jsontxt = pa_plot_data.to_json()\n",
    "# pa_plot_data['geometry'] = pa_plot_data['geometry'].to_crs(epsg=4326) # make sure it's in the right projection\n",
    "\n",
    "# #set up a \"chloropleth\" map \n",
    "# cp = folium.Choropleth(geo_data=pa_jsontxt,data=pa_plot_data,\n",
    "#                   columns=['geoid', 'CD_2011'],\n",
    "#                   key_on=\"feature.id\",\n",
    "#                   fill_opacity=0.5,\n",
    "#                   line_opacity=0.2,\n",
    "#                   line_color='white',\n",
    "#                   line_weight=0,\n",
    "#                   legend_name='District',\n",
    "#                   name='CD_2011',\n",
    "#                   highlight=True,\n",
    "#                   fill_color='RdBu'\n",
    "#                   ).add_to(m)\n",
    "\n",
    "# # tooltip set-up using: https://stackoverflow.com/questions/70471888/text-as-tooltip-popup-or-labels-in-folium-choropleth-geojson-polygons\n",
    "\n",
    "# # creating a state indexed version of the dataframe so we can lookup values\n",
    "\n",
    "# # looping thru the geojson object and adding a new property(unemployment)\n",
    "# # and assigning a value from our dataframe\n",
    "# for s in cp.geojson.data['features']:\n",
    "#     s['properties']['PRE16Dem'] = pa_vtds.loc[int(s['id']), 'T16PRESD']\n",
    "#     s['properties']['PRE16Rep'] = pa_vtds.loc[int(s['id']), 'T16PRESR']\n",
    "\n",
    "# # and finally adding a tooltip/hover to the choropleth's geojson\n",
    "# folium.GeoJsonTooltip(['PRE16Dem', 'PRE16Rep']).add_to(cp.geojson)\n",
    "\n",
    "# folium.LayerControl().add_to(m)\n",
    "  \n",
    "\n",
    "# m"
   ]
  },
  {
   "cell_type": "code",
   "execution_count": null,
   "metadata": {},
   "outputs": [],
   "source": []
  }
 ],
 "metadata": {
  "kernelspec": {
   "display_name": "Python 3.10.5 ('mrc')",
   "language": "python",
   "name": "python3"
  },
  "language_info": {
   "codemirror_mode": {
    "name": "ipython",
    "version": 3
   },
   "file_extension": ".py",
   "mimetype": "text/x-python",
   "name": "python",
   "nbconvert_exporter": "python",
   "pygments_lexer": "ipython3",
   "version": "3.10.5"
  },
  "vscode": {
   "interpreter": {
    "hash": "0137acbf202c6cbf00412772992dd712b28ab045cf6d5c9c767bced563b737e8"
   }
  }
 },
 "nbformat": 4,
 "nbformat_minor": 4
}
